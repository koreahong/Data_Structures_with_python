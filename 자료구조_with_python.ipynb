{
  "nbformat": 4,
  "nbformat_minor": 0,
  "metadata": {
    "colab": {
      "name": "자료구조 with python.ipynb",
      "provenance": [],
      "authorship_tag": "ABX9TyPJjo4grsxkS6Vb8FVJBevn",
      "include_colab_link": true
    },
    "kernelspec": {
      "name": "python3",
      "display_name": "Python 3"
    },
    "language_info": {
      "name": "python"
    }
  },
  "cells": [
    {
      "cell_type": "markdown",
      "metadata": {
        "id": "view-in-github",
        "colab_type": "text"
      },
      "source": [
        "<a href=\"https://colab.research.google.com/github/koreahong/Data_Structures_with_python/blob/main/%EC%9E%90%EB%A3%8C%EA%B5%AC%EC%A1%B0_with_python.ipynb\" target=\"_parent\"><img src=\"https://colab.research.google.com/assets/colab-badge.svg\" alt=\"Open In Colab\"/></a>"
      ]
    },
    {
      "cell_type": "markdown",
      "metadata": {
        "id": "v65kWE-dDUOa"
      },
      "source": [
        "# 연결리스트"
      ]
    },
    {
      "cell_type": "markdown",
      "metadata": {
        "id": "Qw9_GrhCDcU_"
      },
      "source": [
        "## 단일연결리스트"
      ]
    },
    {
      "cell_type": "code",
      "metadata": {
        "id": "I3R8Q0XDAIdm"
      },
      "source": [
        "class Slist:\n",
        "    #노드 생성자\n",
        "    #항목과 다음 노드 레퍼런스\n",
        "    class Node:\n",
        "        def __init__(self, item, link):\n",
        "            self.item = item\n",
        "            self.next = link\n",
        "    #단순연결리스트 생성자\n",
        "    #head와 항목수(size)로 구성\n",
        "    def __init__(self):\n",
        "        self.head = self.Node(None, None)\n",
        "        self.size = 0\n",
        "\n",
        "    def size(self): return self.size\n",
        "    def is_empty(self): return self.size == 0\n",
        "\n",
        "    def insert_front(self, item):\n",
        "        #empty인경우\n",
        "        if self.is_empty():\n",
        "            #노드를 생성하는데, 해당노드의 item은 item, next는 None이다\n",
        "            self.head.next = self.Node(item, None)\n",
        "        else:\n",
        "            #노드를 생성하는데, 해당노드의 item은 item, next는 삽입되기전 node이다***\n",
        "            self.head.next = self.Node(item, self.head.next)\n",
        "        self.size += 1\n",
        "\n",
        "    def insert_after(self, item, p):\n",
        "        #노드를 생성하는데, 해당노드의 item은 item, next는 p의 다음 노드\n",
        "        p.next = self.Node(item, p.next)\n",
        "        self.size += 1\n",
        "\n",
        "    def delete_front(self):\n",
        "        if self.is_empty():\n",
        "            raise EmptyError('Underflow')\n",
        "        else:\n",
        "            #앞에서 삭제하는데 head는 이전헤드의 다음 노드를 가르킴\n",
        "            self.head =  self.head,next\n",
        "            size -= 1\n",
        "\n",
        "    def delete_after(self, p):\n",
        "        if self.is_empty():\n",
        "            raise EmptyError('Underflow')\n",
        "        #다음노드를 지정\n",
        "        t = p.next\n",
        "        #다다음노드를 지우려고하는 노드의 포인터로 가르킴\n",
        "        p.next = t.next\n",
        "        self.size -= 1\n",
        "\n",
        "    def search(self, target):\n",
        "        p = self.head\n",
        "        for k in range(self.size):\n",
        "            print(k, p.item)\n",
        "            if target == p.item: return k\n",
        "            p = p.next\n",
        "        #탐색실패\n",
        "        return None\n",
        "\n",
        "    def print_list(self):\n",
        "        p = self.head\n",
        "        while p:\n",
        "            if p.next != None:\n",
        "                print(p.item, ' -> ', end='')\n",
        "            else:\n",
        "                print(p.item)\n",
        "            p = p.next\n",
        "\n",
        "#에러처리\n",
        "class EmptyError(Exception):\n",
        "    pass"
      ],
      "execution_count": 56,
      "outputs": []
    },
    {
      "cell_type": "code",
      "metadata": {
        "colab": {
          "base_uri": "https://localhost:8080/"
        },
        "id": "86B1LwkCD-dp",
        "outputId": "2a69ba1d-d6e1-4719-e4a8-b876eab74b01"
      },
      "source": [
        "if __name__ == '__main__':\n",
        "    s = Slist()\n",
        "    s.insert_front('orange')\n",
        "    s.insert_front('apple')\n",
        "    s.insert_after('cherry', s.head.next)\n",
        "    s.insert_front('pear')\n",
        "    s.print_list()\n",
        "    # print('cherrty는 %d번째' % s.search('cherry'))"
      ],
      "execution_count": 58,
      "outputs": [
        {
          "output_type": "stream",
          "text": [
            "None  -> pear  -> apple  -> cherry  -> orange\n"
          ],
          "name": "stdout"
        }
      ]
    },
    {
      "cell_type": "markdown",
      "metadata": {
        "id": "cDLnwqeeD3Y5"
      },
      "source": [
        "## 이중연결리스트"
      ]
    },
    {
      "cell_type": "code",
      "metadata": {
        "id": "sCjDBhdv8ytm"
      },
      "source": [
        "class Dlist:\n",
        "    class Node:\n",
        "        def __init__(self, item, prev, link):\n",
        "            self.item = item\n",
        "            self.prev = prev\n",
        "            self.next = link\n",
        "\n",
        "    def __init__(self):\n",
        "        self.head = self.Node(None, None, None)\n",
        "        self.tail = self.Node(None, self.head, None)\n",
        "        self.head.next = self.tail\n",
        "        self.size = 0\n",
        "\n",
        "    def size(self): return self.size\n",
        "    def is_empty(self): return self.size == 0\n",
        "\n",
        "    def insert_before(self, p, item):\n",
        "        t = p.prev\n",
        "        n = self.Node(item, t, p)\n",
        "        t.next = n\n",
        "        p.prev = n\n",
        "        self.size += 1\n",
        "\n",
        "\n",
        "    def insert_after(self, p, item):\n",
        "        t = p.next\n",
        "        n = self.Node(item, p, t)\n",
        "        p.next = n\n",
        "        t.prev = n\n",
        "        self.size += 1\n",
        "\n",
        "    def delete(self, x):\n",
        "        f = x.next\n",
        "        r = x.prev\n",
        "        f.prev = r\n",
        "        r.next = f\n",
        "        self.size -= 1\n",
        "        return x.time\n",
        "    \n",
        "    def search(self, target):\n",
        "        if self.head == None:\n",
        "            print(\"list is empty\")\n",
        "\n",
        "        else:\n",
        "            p = self.head\n",
        "            for i in range(self.size + 2):\n",
        "                print(p.item)\n",
        "                print(i)\n",
        "                if target == p.item: return i\n",
        "                p = p.next\n",
        "            return -1\n",
        "\n",
        "    def print_list(self):\n",
        "        if self.is_empty():\n",
        "            print('list is empty')\n",
        "        else:\n",
        "            p = self.head.next\n",
        "            while p != self.tail:\n",
        "                if p.next != self.tail:\n",
        "                    print(p.item, ' <=> ', end='')\n",
        "                else:\n",
        "                    print(p.item)\n",
        "                p = p.next\n",
        "\n",
        "                \n",
        "#에러처리\n",
        "class EmptyError(Exception):\n",
        "    pass          "
      ],
      "execution_count": 61,
      "outputs": []
    },
    {
      "cell_type": "code",
      "metadata": {
        "colab": {
          "base_uri": "https://localhost:8080/"
        },
        "id": "ueUTVnKID7yk",
        "outputId": "6b874e0f-de57-4753-c967-1c096b324a8d"
      },
      "source": [
        "if __name__ == '__main__':\n",
        "    s = Dlist()\n",
        "    s.insert_after(s.head, 'apple')\n",
        "    s.insert_before(s.tail, 'orange')\n",
        "    s.insert_before(s.tail, 'cherry')\n",
        "    s.insert_after(s.head.next, 'pear')\n",
        "    s.print_list()\n",
        "    print(f\"cherry는 {s.search('cherry')}번째\")"
      ],
      "execution_count": 62,
      "outputs": [
        {
          "output_type": "stream",
          "text": [
            "apple  <=> pear  <=> orange  <=> cherry\n",
            "None\n",
            "0\n",
            "apple\n",
            "1\n",
            "pear\n",
            "2\n",
            "orange\n",
            "3\n",
            "cherry\n",
            "4\n",
            "cherry는 4번째\n"
          ],
          "name": "stdout"
        }
      ]
    },
    {
      "cell_type": "markdown",
      "metadata": {
        "id": "kjY-Yp0wOZEd"
      },
      "source": [
        "## 원형리스트"
      ]
    },
    {
      "cell_type": "code",
      "metadata": {
        "id": "QcVF7siiEmtn"
      },
      "source": [
        "class Clist:\n",
        "    class Node:\n",
        "        def __init__(self, item, link):\n",
        "            self.item = item\n",
        "            self.next = link\n",
        "    \n",
        "    def __init__(self):\n",
        "        self.last = self.Node(None, None)\n",
        "        self.size = 0\n",
        "\n",
        "    def no_items(self): return self.size\n",
        "    def is_empty(self): return self.size == 0\n",
        "\n",
        "    def insert(self, item):\n",
        "        n = self.Node(item, None)\n",
        "        if self.is_empty():\n",
        "            n.next = n\n",
        "            self.last.next = n\n",
        "        else:\n",
        "            n.next = self.last.next.next\n",
        "            self.last.next.next = n\n",
        "\n",
        "        self.size += 1\n",
        "\n",
        "    def first(self):\n",
        "        if self.is_empty():\n",
        "            raise EmptyError('Underflow')\n",
        "        f = self.last.next\n",
        "        return f.item\n",
        "\n",
        "    def delete(self):\n",
        "        if self.is_empty():\n",
        "            raise EmptyError('Underflow')\n",
        "        x = self.last.next\n",
        "        if self.size == 1:\n",
        "            self.last = None\n",
        "        else:\n",
        "            self.last.next = x.next\n",
        "\n",
        "        self.size -= 1\n",
        "        return x.item\n",
        "\n",
        "    def print_list(self):\n",
        "        if self.is_empty():\n",
        "            print(\"list is empty\")\n",
        "        else:\n",
        "            f = self.last.next.next\n",
        "            p = f\n",
        "            while p.next != f:\n",
        "                print(p.item, ' -> ', end='')\n",
        "                p = p.next\n",
        "            print(p.item)\n",
        "                   \n",
        "#에러처리\n",
        "class EmptyError(Exception):\n",
        "    pass                              "
      ],
      "execution_count": 81,
      "outputs": []
    },
    {
      "cell_type": "code",
      "metadata": {
        "colab": {
          "base_uri": "https://localhost:8080/"
        },
        "id": "iJVFGr6GSEik",
        "outputId": "acc72fb8-d937-467e-9507-a8c164ae44d7"
      },
      "source": [
        "if __name__ == '__main__':\n",
        "    s = Clist()\n",
        "    s.insert('apple')\n",
        "    s.insert('orange')\n",
        "    s.insert('cherry')\n",
        "    s.insert('pear')\n",
        "    s.print_list()"
      ],
      "execution_count": 82,
      "outputs": [
        {
          "output_type": "stream",
          "text": [
            "pear  -> cherry  -> orange  -> apple\n"
          ],
          "name": "stdout"
        }
      ]
    },
    {
      "cell_type": "code",
      "metadata": {
        "id": "ecR-nmp5SIec"
      },
      "source": [
        ""
      ],
      "execution_count": null,
      "outputs": []
    }
  ]
}